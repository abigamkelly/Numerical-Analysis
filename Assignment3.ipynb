{
 "cells": [
  {
   "cell_type": "code",
   "execution_count": null,
   "id": "0c0c3e2c-639e-465f-a021-dfc675bea6f1",
   "metadata": {},
   "outputs": [],
   "source": [
    "#Abigail Kelly\n",
    "#Computer Assignment 3\n",
    "#Due 3/31/23"
   ]
  },
  {
   "cell_type": "code",
   "execution_count": 1,
   "id": "bdb041bc-c061-4b61-9c06-d9bf1653683a",
   "metadata": {},
   "outputs": [
    {
     "name": "stdout",
     "output_type": "stream",
     "text": [
      "Time when tank will hold 1010 gallons: 5 minutes\n"
     ]
    }
   ],
   "source": [
    "#Problem 13 (Page 281)\n",
    "#part a\n",
    "volume = 1000\n",
    "weight = 0.02\n",
    "salt = 50\n",
    "rate = 5\n",
    "increase = 10\n",
    "\n",
    "gallons = (weight * volume * rate) / salt\n",
    "time = increase / gallons\n",
    "\n",
    "print(\"Time when tank will hold 1010 gallons:\", int(time), \"minutes\")"
   ]
  },
  {
   "cell_type": "code",
   "execution_count": 25,
   "id": "7bda4932-eda3-4d86-9789-dd9ae7f039ee",
   "metadata": {},
   "outputs": [
    {
     "name": "stdout",
     "output_type": "stream",
     "text": [
      "50.00000001010949 is the concentration of salt when the tank holds 1010 gallons of water\n"
     ]
    }
   ],
   "source": [
    "#Problem 13 (Page 281)\n",
    "#part b\n",
    "def main():\n",
    "    a = 0         #starting time\n",
    "    b = 1010   #ending time\n",
    "    init = 50  #initial value\n",
    "    h = 0.5    #step size\n",
    "    t = a\n",
    "    w = init\n",
    "    \n",
    "    #must iterate 200 times because 0.2/0.001 = 200\n",
    "    #the loop says 201 since for loops iterate up to \n",
    "    #but not including the number in the range()\n",
    "    for i in range(2021):\n",
    "        k1 = h * f(t, w)\n",
    "        k2 = h * f(t + h / 2, w + k1 / 2)\n",
    "        k3 = h * f(t + h / 2, w + k2 / 2)\n",
    "        k4 = h * f(t + h, w + k3)\n",
    "        w = w + (k1 + 2 * k2 + 2 * k3 + k4) / 6\n",
    "        t = a + i * h\n",
    "        \n",
    "    #display results\n",
    "    print(w, \"is the concentration of salt when the tank holds\", b, \"gallons of water\")\n",
    "\n",
    "    \n",
    "def x(t):\n",
    "    return 33.3333333 + 0.0666666 * t\n",
    "    \n",
    "#equation\n",
    "def f(t, x):\n",
    "    return (0.1 - (3 * (33.33333333 + 0.06666666666 * t)) / (1000 + 2 * t))\n",
    "  \n",
    "main()"
   ]
  },
  {
   "cell_type": "code",
   "execution_count": 3,
   "id": "5355f3aa-af08-4305-8757-95de722164f3",
   "metadata": {},
   "outputs": [
    {
     "name": "stdout",
     "output_type": "stream",
     "text": [
      "The concentration of salt when the tank holds 1010 gallons is [49.75556105]\n"
     ]
    }
   ],
   "source": [
    "#This is another way to do part b that is more accurate\n",
    "import numpy as np\n",
    "from scipy.integrate import odeint\n",
    "\n",
    "def f(x, t):\n",
    "    return (0.1 - (3 * x) / (1000 + 2 * t))\n",
    "\n",
    "t = np.linspace(0, 5, 10)  # define an array of time points\n",
    "sol = odeint(f, 50, t)  # call odeint with the function f and the time array t\n",
    "print(\"The concentration of salt when the tank holds 1010 gallons is\", sol[9])\n"
   ]
  },
  {
   "cell_type": "code",
   "execution_count": 12,
   "id": "69c786dd-650c-4f47-be73-60f57878afeb",
   "metadata": {},
   "outputs": [
    {
     "name": "stdout",
     "output_type": "stream",
     "text": [
      "2297.29 units of potassium hydroxide will have been formed after 0.2 seconds\n"
     ]
    }
   ],
   "source": [
    "#Problem 27 (Page 293)\n",
    "def main():\n",
    "    a = 0         #starting time\n",
    "    b = 0.2       #ending time\n",
    "    init = 2100   #initial value\n",
    "    h = 0.001     #step size\n",
    "    t = a\n",
    "    w = init\n",
    "    \n",
    "    #must iterate 200 times because 0.2/0.001 = 200\n",
    "    #the loop says 201 since for loops iterate up to \n",
    "    #but not including the number in the range()\n",
    "    for i in range(201):\n",
    "        k1 = h * f(t, w)\n",
    "        k2 = h * f(t + h / 2, w + k1 / 2)\n",
    "        k3 = h * f(t + h / 2, w + k2 / 2)\n",
    "        k4 = h * f(t + h, w + k3)\n",
    "        w = w + (k1 + 2 * k2 + 2 * k3 + k4) / 6\n",
    "        t = a + i * h\n",
    "        \n",
    "    #display results\n",
    "    print(round(w, 2), \"units of potassium hydroxide will have been formed after\", t, \"seconds\")\n",
    "    \n",
    "#equation\n",
    "def f(t, x):\n",
    "    k = 6.22E-19\n",
    "    n1 = 2E3\n",
    "    n2 = 2E3\n",
    "    n3 = 3E3\n",
    "    return (k * (n1 - (x / 2))**2 * (n2 - (x / 2))**2 * (n3 - (3 * x) / 4)**3)\n",
    "    \n",
    "main()"
   ]
  }
 ],
 "metadata": {
  "kernelspec": {
   "display_name": "Python 3 (ipykernel)",
   "language": "python",
   "name": "python3"
  },
  "language_info": {
   "codemirror_mode": {
    "name": "ipython",
    "version": 3
   },
   "file_extension": ".py",
   "mimetype": "text/x-python",
   "name": "python",
   "nbconvert_exporter": "python",
   "pygments_lexer": "ipython3",
   "version": "3.10.8"
  }
 },
 "nbformat": 4,
 "nbformat_minor": 5
}
